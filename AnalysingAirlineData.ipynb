{
  "nbformat": 4,
  "nbformat_minor": 0,
  "metadata": {
    "colab": {
      "provenance": [],
      "collapsed_sections": [],
      "toc_visible": true,
      "include_colab_link": true
    },
    "kernelspec": {
      "display_name": "Python 3",
      "name": "python3"
    }
  },
  "cells": [
    {
      "cell_type": "markdown",
      "metadata": {
        "id": "view-in-github",
        "colab_type": "text"
      },
      "source": [
        "<a href=\"https://colab.research.google.com/github/mdnehalsalik/FlightDelaysAnalysis_Statistics_Visualization_Python/blob/main/AnalysingAirlineData.ipynb\" target=\"_parent\"><img src=\"https://colab.research.google.com/assets/colab-badge.svg\" alt=\"Open In Colab\"/></a>"
      ]
    },
    {
      "cell_type": "markdown",
      "metadata": {
        "id": "jF6GNkGEqRe3"
      },
      "source": [
        "# P2 - Statistics + Visualization\n",
        "\n",
        "**Tues. Oct. 5, 2021, 11:59pm**\n",
        "\n",
        "Analysing Airline data for flight delays and other anomalies, using visualization and analysis in Python.\n",
        "\n",
        "\n",
        "\n"
      ]
    },
    {
      "cell_type": "code",
      "metadata": {
        "id": "WNM1QRdazqgy"
      },
      "source": [
        "import pandas as pd\n",
        "import numpy as np\n",
        "import matplotlib.pyplot as plt\n",
        "%matplotlib inline \n",
        "import seaborn as sns\n",
        "import time\n"
      ],
      "execution_count": null,
      "outputs": []
    },
    {
      "cell_type": "markdown",
      "metadata": {
        "id": "btppYjmdqu7s"
      },
      "source": [
        "# Flight Delays\n",
        "\n",
        "Suppose the Houghton County Airport (CMX) is ready to renew its passenger airplane contract.  Airport officials and interested passengers would like to select an airline and connecting city that has reliable service.  *Currently, CMX is being served by United Airlines through Chicago-O'hare (ORD); it has been served by Delta in the past with connections to Minneapolis-St. Paul (MSP).* \n",
        "\n",
        "In order to make an informed decision, you have been tasked to look at flight delay statistics for three potential connector airports: \n",
        "\n",
        "* Chicago - O'hare (ORD) \n",
        "* Detroit (DTW) \n",
        "* Minneapolis - St. Paul (MSP) \n",
        "\n",
        "The data comes from the US Department of Transportation's [Bureau of Transportation Statistics (BTS)](https://www.bts.gov).  In particular, it comes from the Reporting Carrier On-Time Performance data tables:  \n",
        "https://www.transtats.bts.gov/TableInfo.asp?gnoyr_VQ=FGJ&QO_fu146_anzr=b0-gvzr&V0s1_b0yB=D\n",
        "\n",
        "Information on the variables can be found in the Field Information:  \n",
        "https://www.transtats.bts.gov/Fields.asp?gnoyr_VQ=FGJ\n",
        "\n",
        "\n",
        "The data is structure with the following elements: \n",
        "\n",
        "* \"YEAR\"\n",
        "* \"MONTH\"\n",
        "* \"DAY_OF_WEEK\"\n",
        "* \"FL_DATE\" - Flight Date (yyyymmdd)\n",
        "* \"OP_UNIQUE_CARRIER\" - Unique Carrier Code\n",
        "* \"TAIL_NUM\" - Tail number \n",
        "* \"OP_CARRIER_FL_NUM\" - Flight number \n",
        "* \"ORIGIN\" - Origin Airport code \n",
        "* \"DEST\" - Destination Airport code \n",
        "* \"CRS_DEP_TIME\" - Computer Reservation System Departure Time (local time: hhmm)\n",
        "* \"DEP_TIME\" - Actual Departure Time (local time: hhmm)\n",
        "* \"CRS_ARR_TIME\" - Computer Reservation System Arrival Time (local time: hhmm)\n",
        "* \"ARR_TIME\" - Actual Arrival Time \n",
        "* \"CANCELLED\" - Cancelled Flight Indicator (1 = Yes)\n",
        "\n",
        "You have access to 4 years of data July, 2017 - June, 2021. "
      ]
    },
    {
      "cell_type": "markdown",
      "metadata": {
        "id": "D_tu0O0G4GkA"
      },
      "source": [
        "## Access the Data \n",
        "\n",
        "The data is available as a [Kaggle](http://www.kaggle.com) data set.  \n",
        "\n",
        "Steps to download: \n",
        "\n",
        "1. Create a [Kaggle](https://www.kaggle.com/) account (if you don't have one already). \n",
        "2. After you log in, go to \"My Account\" \n",
        "3. Under API, select \"Create API token\", this will download a `kaggle.json` file that has two pieces of information:  `username` and  `key`.  Keep the `key` private!\n",
        "4. Email/Post on Ed your username.  I am not making the data available publicly, but will share it with you all by your kaggle account.  \n",
        "\n",
        "\n",
        "You will need to use your Kaggle credentials: `username` and API `key` to access the data using one of the methods below. "
      ]
    },
    {
      "cell_type": "markdown",
      "metadata": {
        "id": "SrylV73xY52A"
      },
      "source": [
        "##  Data Access \n",
        "\n",
        "Email or Post on Ed your Kaggle `username`.  The post on Ed can be a private response.  **DO NOT SHARE YOUR KEY!** just share your Kaggle username. "
      ]
    },
    {
      "cell_type": "markdown",
      "metadata": {
        "id": "iBZo_WTo4oP_"
      },
      "source": [
        "#### Method 1: \n",
        "\n",
        "Copy and paste the key information (does not upload your key information to the Drive)."
      ]
    },
    {
      "cell_type": "code",
      "metadata": {
        "id": "VMuIuhxh4q5R",
        "colab": {
          "base_uri": "https://localhost:8080/"
        },
        "outputId": "6c2c3939-4d7a-4dd3-e75e-7528769a76cd"
      },
      "source": [
        "import os \n",
        "from getpass import getpass\n",
        "\n",
        "os.environ['KAGGLE_USERNAME'] = getpass(\"Enter Kaggle Username: \")\n",
        "os.environ['KAGGLE_KEY'] = getpass(\"Enter Kaggle API Key: \")"
      ],
      "execution_count": null,
      "outputs": [
        {
          "name": "stdout",
          "output_type": "stream",
          "text": [
            "Enter Kaggle Username: ··········\n",
            "Enter Kaggle API Key: ··········\n"
          ]
        }
      ]
    },
    {
      "cell_type": "markdown",
      "metadata": {
        "id": "aWTRI0BY4wAd"
      },
      "source": [
        "#### Method 2: \n",
        "\n",
        "Load `kaggle.json` to Colab directory (file is destroyed when sevice is disconnected).  This method relys on Google's security for safely storing and protecting your data."
      ]
    },
    {
      "cell_type": "code",
      "metadata": {
        "id": "rZ3PkJtV40np"
      },
      "source": [
        "# from google.colab import files\n",
        "# uploaded = files.upload()"
      ],
      "execution_count": null,
      "outputs": []
    },
    {
      "cell_type": "code",
      "metadata": {
        "id": "O6CNeNfc44U8"
      },
      "source": [
        "# with open(\"kaggle.json\") as f:\n",
        "#     keys = json.load(f)\n",
        "\n",
        "# os.environ['KAGGLE_USERNAME'] = keys[\"username\"] # username from the json file\n",
        "# os.environ['KAGGLE_KEY'] = keys[\"key\"] # key from the json file"
      ],
      "execution_count": null,
      "outputs": []
    },
    {
      "cell_type": "markdown",
      "metadata": {
        "id": "SQA10H9746-v"
      },
      "source": [
        "## Download the Data \n"
      ]
    },
    {
      "cell_type": "code",
      "metadata": {
        "id": "H8xpmkYv4_aC",
        "colab": {
          "base_uri": "https://localhost:8080/"
        },
        "outputId": "3390ecd3-b77a-4ddb-a5a9-d8d6541ea813"
      },
      "source": [
        "!kaggle datasets download -d lebrown/un5550f21-p2 # api copied from kaggle"
      ],
      "execution_count": null,
      "outputs": [
        {
          "output_type": "stream",
          "name": "stdout",
          "text": [
            "Downloading un5550f21-p2.zip to /content\n",
            " 94% 56.0M/59.6M [00:00<00:00, 131MB/s]\n",
            "100% 59.6M/59.6M [00:00<00:00, 134MB/s]\n"
          ]
        }
      ]
    },
    {
      "cell_type": "code",
      "metadata": {
        "id": "aqbCB6LW5Vg6",
        "colab": {
          "base_uri": "https://localhost:8080/"
        },
        "outputId": "e8276194-d7cf-4eb9-cd45-c0ca4e84b36d"
      },
      "source": [
        "!unzip un5550f21-p2.zip"
      ],
      "execution_count": null,
      "outputs": [
        {
          "output_type": "stream",
          "name": "stdout",
          "text": [
            "Archive:  un5550f21-p2.zip\n",
            "  inflating: flights_ORD_MSP_DTW_01_2018.csv  \n",
            "  inflating: flights_ORD_MSP_DTW_01_2019.csv  \n",
            "  inflating: flights_ORD_MSP_DTW_01_2020.csv  \n",
            "  inflating: flights_ORD_MSP_DTW_01_2021.csv  \n",
            "  inflating: flights_ORD_MSP_DTW_02_2018.csv  \n",
            "  inflating: flights_ORD_MSP_DTW_02_2019.csv  \n",
            "  inflating: flights_ORD_MSP_DTW_02_2020.csv  \n",
            "  inflating: flights_ORD_MSP_DTW_02_2021.csv  \n",
            "  inflating: flights_ORD_MSP_DTW_03_2018.csv  \n",
            "  inflating: flights_ORD_MSP_DTW_03_2019.csv  \n",
            "  inflating: flights_ORD_MSP_DTW_03_2020.csv  \n",
            "  inflating: flights_ORD_MSP_DTW_03_2021.csv  \n",
            "  inflating: flights_ORD_MSP_DTW_04_2018.csv  \n",
            "  inflating: flights_ORD_MSP_DTW_04_2019.csv  \n",
            "  inflating: flights_ORD_MSP_DTW_04_2020.csv  \n",
            "  inflating: flights_ORD_MSP_DTW_04_2021.csv  \n",
            "  inflating: flights_ORD_MSP_DTW_05_2018.csv  \n",
            "  inflating: flights_ORD_MSP_DTW_05_2019.csv  \n",
            "  inflating: flights_ORD_MSP_DTW_05_2020.csv  \n",
            "  inflating: flights_ORD_MSP_DTW_05_2021.csv  \n",
            "  inflating: flights_ORD_MSP_DTW_06_2018.csv  \n",
            "  inflating: flights_ORD_MSP_DTW_06_2019.csv  \n",
            "  inflating: flights_ORD_MSP_DTW_06_2020.csv  \n",
            "  inflating: flights_ORD_MSP_DTW_06_2021.csv  \n",
            "  inflating: flights_ORD_MSP_DTW_07_2017.csv  \n",
            "  inflating: flights_ORD_MSP_DTW_07_2018.csv  \n",
            "  inflating: flights_ORD_MSP_DTW_07_2019.csv  \n",
            "  inflating: flights_ORD_MSP_DTW_07_2020.csv  \n",
            "  inflating: flights_ORD_MSP_DTW_08_2017.csv  \n",
            "  inflating: flights_ORD_MSP_DTW_08_2018.csv  \n",
            "  inflating: flights_ORD_MSP_DTW_08_2019.csv  \n",
            "  inflating: flights_ORD_MSP_DTW_08_2020.csv  \n",
            "  inflating: flights_ORD_MSP_DTW_09_2017.csv  \n",
            "  inflating: flights_ORD_MSP_DTW_09_2018.csv  \n",
            "  inflating: flights_ORD_MSP_DTW_09_2019.csv  \n",
            "  inflating: flights_ORD_MSP_DTW_09_2020.csv  \n",
            "  inflating: flights_ORD_MSP_DTW_10_2017.csv  \n",
            "  inflating: flights_ORD_MSP_DTW_10_2018.csv  \n",
            "  inflating: flights_ORD_MSP_DTW_10_2019.csv  \n",
            "  inflating: flights_ORD_MSP_DTW_10_2020.csv  \n",
            "  inflating: flights_ORD_MSP_DTW_11_2017.csv  \n",
            "  inflating: flights_ORD_MSP_DTW_11_2018.csv  \n",
            "  inflating: flights_ORD_MSP_DTW_11_2019.csv  \n",
            "  inflating: flights_ORD_MSP_DTW_11_2020.csv  \n",
            "  inflating: flights_ORD_MSP_DTW_12_2017.csv  \n",
            "  inflating: flights_ORD_MSP_DTW_12_2018.csv  \n",
            "  inflating: flights_ORD_MSP_DTW_12_2019.csv  \n",
            "  inflating: flights_ORD_MSP_DTW_12_2020.csv  \n"
          ]
        }
      ]
    },
    {
      "cell_type": "markdown",
      "metadata": {
        "id": "7Bbj_TC781vb"
      },
      "source": [
        "As you can see, there are 48 data files one for each month that should be loaded into a single data frame. \n",
        "\n",
        "Let's explore how we can do this. "
      ]
    },
    {
      "cell_type": "markdown",
      "metadata": {
        "id": "KlPF45q49Cgz"
      },
      "source": [
        "### Create DataFrame - version 1 \n",
        "\n",
        "In this version we will use pandas `concat` or concatenate function. "
      ]
    },
    {
      "cell_type": "code",
      "metadata": {
        "id": "Lztqc7y797NQ",
        "colab": {
          "base_uri": "https://localhost:8080/"
        },
        "outputId": "a93f3d7c-171d-46f5-b8ed-2f11cdd10c7e"
      },
      "source": [
        "import time\n",
        "start = time.time()\n",
        "df = pd.DataFrame() \n",
        "\n",
        "# Iterate over all files \n",
        "for file in os.listdir():\n",
        "    if file.endswith(\".csv\"):\n",
        "        df = pd.concat([df, pd.read_csv(file, header=None)], axis=0)\n",
        "\n",
        "# reset the index \n",
        "df.reset_index(drop=True, inplace=True)\n",
        "end = time.time()\n",
        "\n",
        "print(\"Elapsed time:  \", end - start)"
      ],
      "execution_count": null,
      "outputs": [
        {
          "output_type": "stream",
          "name": "stdout",
          "text": [
            "Elapsed time:   33.43014693260193\n"
          ]
        }
      ]
    },
    {
      "cell_type": "code",
      "metadata": {
        "id": "J8YLKPuRBOz9",
        "colab": {
          "base_uri": "https://localhost:8080/",
          "height": 206
        },
        "outputId": "be85f910-70d2-42e7-ba7d-4536a5843daa"
      },
      "source": [
        "df.head()"
      ],
      "execution_count": null,
      "outputs": [
        {
          "output_type": "execute_result",
          "data": {
            "text/html": [
              "<div>\n",
              "<style scoped>\n",
              "    .dataframe tbody tr th:only-of-type {\n",
              "        vertical-align: middle;\n",
              "    }\n",
              "\n",
              "    .dataframe tbody tr th {\n",
              "        vertical-align: top;\n",
              "    }\n",
              "\n",
              "    .dataframe thead th {\n",
              "        text-align: right;\n",
              "    }\n",
              "</style>\n",
              "<table border=\"1\" class=\"dataframe\">\n",
              "  <thead>\n",
              "    <tr style=\"text-align: right;\">\n",
              "      <th></th>\n",
              "      <th>0</th>\n",
              "      <th>1</th>\n",
              "      <th>2</th>\n",
              "      <th>3</th>\n",
              "      <th>4</th>\n",
              "      <th>5</th>\n",
              "      <th>6</th>\n",
              "      <th>7</th>\n",
              "      <th>8</th>\n",
              "      <th>9</th>\n",
              "      <th>10</th>\n",
              "      <th>11</th>\n",
              "      <th>12</th>\n",
              "      <th>13</th>\n",
              "      <th>14</th>\n",
              "    </tr>\n",
              "  </thead>\n",
              "  <tbody>\n",
              "    <tr>\n",
              "      <th>0</th>\n",
              "      <td>2021</td>\n",
              "      <td>5</td>\n",
              "      <td>6</td>\n",
              "      <td>2021-05-01</td>\n",
              "      <td>OH</td>\n",
              "      <td>N571NN</td>\n",
              "      <td>5231</td>\n",
              "      <td>CLT</td>\n",
              "      <td>DTW</td>\n",
              "      <td>1630</td>\n",
              "      <td>1628.0</td>\n",
              "      <td>1832</td>\n",
              "      <td>1819.0</td>\n",
              "      <td>0.0</td>\n",
              "      <td>NaN</td>\n",
              "    </tr>\n",
              "    <tr>\n",
              "      <th>1</th>\n",
              "      <td>2021</td>\n",
              "      <td>5</td>\n",
              "      <td>7</td>\n",
              "      <td>2021-05-02</td>\n",
              "      <td>OH</td>\n",
              "      <td>N555NN</td>\n",
              "      <td>5231</td>\n",
              "      <td>CLT</td>\n",
              "      <td>DTW</td>\n",
              "      <td>1630</td>\n",
              "      <td>1624.0</td>\n",
              "      <td>1832</td>\n",
              "      <td>1815.0</td>\n",
              "      <td>0.0</td>\n",
              "      <td>NaN</td>\n",
              "    </tr>\n",
              "    <tr>\n",
              "      <th>2</th>\n",
              "      <td>2021</td>\n",
              "      <td>5</td>\n",
              "      <td>1</td>\n",
              "      <td>2021-05-03</td>\n",
              "      <td>OH</td>\n",
              "      <td>N557NN</td>\n",
              "      <td>5231</td>\n",
              "      <td>CLT</td>\n",
              "      <td>DTW</td>\n",
              "      <td>1630</td>\n",
              "      <td>1627.0</td>\n",
              "      <td>1832</td>\n",
              "      <td>1813.0</td>\n",
              "      <td>0.0</td>\n",
              "      <td>NaN</td>\n",
              "    </tr>\n",
              "    <tr>\n",
              "      <th>3</th>\n",
              "      <td>2021</td>\n",
              "      <td>5</td>\n",
              "      <td>2</td>\n",
              "      <td>2021-05-04</td>\n",
              "      <td>OH</td>\n",
              "      <td>N612NN</td>\n",
              "      <td>5231</td>\n",
              "      <td>CLT</td>\n",
              "      <td>DTW</td>\n",
              "      <td>1630</td>\n",
              "      <td>1915.0</td>\n",
              "      <td>1832</td>\n",
              "      <td>2055.0</td>\n",
              "      <td>0.0</td>\n",
              "      <td>NaN</td>\n",
              "    </tr>\n",
              "    <tr>\n",
              "      <th>4</th>\n",
              "      <td>2021</td>\n",
              "      <td>5</td>\n",
              "      <td>3</td>\n",
              "      <td>2021-05-05</td>\n",
              "      <td>OH</td>\n",
              "      <td>N587NN</td>\n",
              "      <td>5231</td>\n",
              "      <td>CLT</td>\n",
              "      <td>DTW</td>\n",
              "      <td>1630</td>\n",
              "      <td>1626.0</td>\n",
              "      <td>1832</td>\n",
              "      <td>1834.0</td>\n",
              "      <td>0.0</td>\n",
              "      <td>NaN</td>\n",
              "    </tr>\n",
              "  </tbody>\n",
              "</table>\n",
              "</div>"
            ],
            "text/plain": [
              "     0   1   2           3   4       5   ...    9       10    11      12   13  14\n",
              "0  2021   5   6  2021-05-01  OH  N571NN  ...  1630  1628.0  1832  1819.0  0.0 NaN\n",
              "1  2021   5   7  2021-05-02  OH  N555NN  ...  1630  1624.0  1832  1815.0  0.0 NaN\n",
              "2  2021   5   1  2021-05-03  OH  N557NN  ...  1630  1627.0  1832  1813.0  0.0 NaN\n",
              "3  2021   5   2  2021-05-04  OH  N612NN  ...  1630  1915.0  1832  2055.0  0.0 NaN\n",
              "4  2021   5   3  2021-05-05  OH  N587NN  ...  1630  1626.0  1832  1834.0  0.0 NaN\n",
              "\n",
              "[5 rows x 15 columns]"
            ]
          },
          "metadata": {},
          "execution_count": 111
        }
      ]
    },
    {
      "cell_type": "markdown",
      "metadata": {
        "id": "5zK_XQng98RP"
      },
      "source": [
        "**What's the problem with this version?** \n",
        "\n",
        "The concatenate function is called each iteration of the loop and it is slow!\n",
        "\n"
      ]
    },
    {
      "cell_type": "markdown",
      "metadata": {
        "id": "hwwcBYDk98Mt"
      },
      "source": [
        "### Create DataFrame - version 2 \n",
        "\n",
        "In this version we still use `concat`, but do it on a list of data frames. "
      ]
    },
    {
      "cell_type": "code",
      "metadata": {
        "id": "gYzOMm3ZCdb5",
        "colab": {
          "base_uri": "https://localhost:8080/"
        },
        "outputId": "eeb55481-6099-4dd1-9958-5228e8e7889f"
      },
      "source": [
        "import glob\n",
        "start = time.time()\n",
        "files = glob.glob('' + \"*.csv\")\n",
        "dfs = (\n",
        "    pd.read_csv(f, header=None) for f in files\n",
        ")\n",
        "\n",
        "df2 = pd.concat(dfs)\n",
        "\n",
        "# reset the index \n",
        "df2.reset_index(drop=True, inplace=True)\n",
        "end = time.time()\n",
        "\n",
        "print(\"Elapsed time:  \", end - start)\n"
      ],
      "execution_count": null,
      "outputs": [
        {
          "output_type": "stream",
          "name": "stdout",
          "text": [
            "Elapsed time:   6.703462839126587\n"
          ]
        }
      ]
    },
    {
      "cell_type": "code",
      "metadata": {
        "id": "4L0vXcC9DapW",
        "colab": {
          "base_uri": "https://localhost:8080/",
          "height": 206
        },
        "outputId": "7e822fcf-5e27-47d2-827b-9510a736dc0e"
      },
      "source": [
        "df2.head()"
      ],
      "execution_count": null,
      "outputs": [
        {
          "output_type": "execute_result",
          "data": {
            "text/html": [
              "<div>\n",
              "<style scoped>\n",
              "    .dataframe tbody tr th:only-of-type {\n",
              "        vertical-align: middle;\n",
              "    }\n",
              "\n",
              "    .dataframe tbody tr th {\n",
              "        vertical-align: top;\n",
              "    }\n",
              "\n",
              "    .dataframe thead th {\n",
              "        text-align: right;\n",
              "    }\n",
              "</style>\n",
              "<table border=\"1\" class=\"dataframe\">\n",
              "  <thead>\n",
              "    <tr style=\"text-align: right;\">\n",
              "      <th></th>\n",
              "      <th>0</th>\n",
              "      <th>1</th>\n",
              "      <th>2</th>\n",
              "      <th>3</th>\n",
              "      <th>4</th>\n",
              "      <th>5</th>\n",
              "      <th>6</th>\n",
              "      <th>7</th>\n",
              "      <th>8</th>\n",
              "      <th>9</th>\n",
              "      <th>10</th>\n",
              "      <th>11</th>\n",
              "      <th>12</th>\n",
              "      <th>13</th>\n",
              "      <th>14</th>\n",
              "    </tr>\n",
              "  </thead>\n",
              "  <tbody>\n",
              "    <tr>\n",
              "      <th>0</th>\n",
              "      <td>2021</td>\n",
              "      <td>5</td>\n",
              "      <td>6</td>\n",
              "      <td>2021-05-01</td>\n",
              "      <td>OH</td>\n",
              "      <td>N571NN</td>\n",
              "      <td>5231</td>\n",
              "      <td>CLT</td>\n",
              "      <td>DTW</td>\n",
              "      <td>1630</td>\n",
              "      <td>1628.0</td>\n",
              "      <td>1832</td>\n",
              "      <td>1819.0</td>\n",
              "      <td>0.0</td>\n",
              "      <td>NaN</td>\n",
              "    </tr>\n",
              "    <tr>\n",
              "      <th>1</th>\n",
              "      <td>2021</td>\n",
              "      <td>5</td>\n",
              "      <td>7</td>\n",
              "      <td>2021-05-02</td>\n",
              "      <td>OH</td>\n",
              "      <td>N555NN</td>\n",
              "      <td>5231</td>\n",
              "      <td>CLT</td>\n",
              "      <td>DTW</td>\n",
              "      <td>1630</td>\n",
              "      <td>1624.0</td>\n",
              "      <td>1832</td>\n",
              "      <td>1815.0</td>\n",
              "      <td>0.0</td>\n",
              "      <td>NaN</td>\n",
              "    </tr>\n",
              "    <tr>\n",
              "      <th>2</th>\n",
              "      <td>2021</td>\n",
              "      <td>5</td>\n",
              "      <td>1</td>\n",
              "      <td>2021-05-03</td>\n",
              "      <td>OH</td>\n",
              "      <td>N557NN</td>\n",
              "      <td>5231</td>\n",
              "      <td>CLT</td>\n",
              "      <td>DTW</td>\n",
              "      <td>1630</td>\n",
              "      <td>1627.0</td>\n",
              "      <td>1832</td>\n",
              "      <td>1813.0</td>\n",
              "      <td>0.0</td>\n",
              "      <td>NaN</td>\n",
              "    </tr>\n",
              "    <tr>\n",
              "      <th>3</th>\n",
              "      <td>2021</td>\n",
              "      <td>5</td>\n",
              "      <td>2</td>\n",
              "      <td>2021-05-04</td>\n",
              "      <td>OH</td>\n",
              "      <td>N612NN</td>\n",
              "      <td>5231</td>\n",
              "      <td>CLT</td>\n",
              "      <td>DTW</td>\n",
              "      <td>1630</td>\n",
              "      <td>1915.0</td>\n",
              "      <td>1832</td>\n",
              "      <td>2055.0</td>\n",
              "      <td>0.0</td>\n",
              "      <td>NaN</td>\n",
              "    </tr>\n",
              "    <tr>\n",
              "      <th>4</th>\n",
              "      <td>2021</td>\n",
              "      <td>5</td>\n",
              "      <td>3</td>\n",
              "      <td>2021-05-05</td>\n",
              "      <td>OH</td>\n",
              "      <td>N587NN</td>\n",
              "      <td>5231</td>\n",
              "      <td>CLT</td>\n",
              "      <td>DTW</td>\n",
              "      <td>1630</td>\n",
              "      <td>1626.0</td>\n",
              "      <td>1832</td>\n",
              "      <td>1834.0</td>\n",
              "      <td>0.0</td>\n",
              "      <td>NaN</td>\n",
              "    </tr>\n",
              "  </tbody>\n",
              "</table>\n",
              "</div>"
            ],
            "text/plain": [
              "     0   1   2           3   4       5   ...    9       10    11      12   13  14\n",
              "0  2021   5   6  2021-05-01  OH  N571NN  ...  1630  1628.0  1832  1819.0  0.0 NaN\n",
              "1  2021   5   7  2021-05-02  OH  N555NN  ...  1630  1624.0  1832  1815.0  0.0 NaN\n",
              "2  2021   5   1  2021-05-03  OH  N557NN  ...  1630  1627.0  1832  1813.0  0.0 NaN\n",
              "3  2021   5   2  2021-05-04  OH  N612NN  ...  1630  1915.0  1832  2055.0  0.0 NaN\n",
              "4  2021   5   3  2021-05-05  OH  N587NN  ...  1630  1626.0  1832  1834.0  0.0 NaN\n",
              "\n",
              "[5 rows x 15 columns]"
            ]
          },
          "metadata": {},
          "execution_count": 10
        }
      ]
    },
    {
      "cell_type": "code",
      "metadata": {
        "id": "AsNdb0DBENqS"
      },
      "source": [
        "flights = df2 \n",
        "del df, df2"
      ],
      "execution_count": null,
      "outputs": []
    },
    {
      "cell_type": "code",
      "metadata": {
        "id": "gSNwyHH6ETBb",
        "colab": {
          "base_uri": "https://localhost:8080/"
        },
        "outputId": "3520cc68-aa76-456a-825d-bc937c5a9761"
      },
      "source": [
        "flights.dtypes"
      ],
      "execution_count": null,
      "outputs": [
        {
          "output_type": "execute_result",
          "data": {
            "text/plain": [
              "0       int64\n",
              "1       int64\n",
              "2       int64\n",
              "3      object\n",
              "4      object\n",
              "5      object\n",
              "6       int64\n",
              "7      object\n",
              "8      object\n",
              "9       int64\n",
              "10    float64\n",
              "11      int64\n",
              "12    float64\n",
              "13    float64\n",
              "14    float64\n",
              "dtype: object"
            ]
          },
          "metadata": {},
          "execution_count": 12
        }
      ]
    },
    {
      "cell_type": "markdown",
      "metadata": {
        "id": "JKdkhPN7hlmt"
      },
      "source": [
        "## Set up Data \n",
        "\n",
        "The DataFrame currently has no column names.  \n",
        "\n",
        "Set the column names to be: `year`, `month`, `dayOfWeek`, `date`, `carrier`, `tailNum`, `flNum`, `origin`, `dest`, `crsDepTime`, `actDepTime`, `crsArrTime`, `actArrTime`, `cancelled` \n",
        "\n",
        "Also, remove the last column that is all `NaN` values. "
      ]
    },
    {
      "cell_type": "code",
      "metadata": {
        "id": "igLRdJzwiRti",
        "colab": {
          "base_uri": "https://localhost:8080/"
        },
        "outputId": "9fab4e24-f98c-4881-d8d5-313417313061"
      },
      "source": [
        "# Set DataFrame columns to names above\n",
        "columns_ = ['year', 'month', 'dayOfWeek', 'date', 'carrier', 'tailNum', 'flNum', 'origin', 'dest', 'crsDepTime', 'actDepTime', 'crsArrTime', 'actArrTime', 'cancelled', 'NAN_']\n",
        "flights.columns = columns_\n",
        "flights.pop(\"NAN_\")"
      ],
      "execution_count": null,
      "outputs": [
        {
          "output_type": "execute_result",
          "data": {
            "text/plain": [
              "0         NaN\n",
              "1         NaN\n",
              "2         NaN\n",
              "3         NaN\n",
              "4         NaN\n",
              "           ..\n",
              "4272383   NaN\n",
              "4272384   NaN\n",
              "4272385   NaN\n",
              "4272386   NaN\n",
              "4272387   NaN\n",
              "Name: NAN_, Length: 4272388, dtype: float64"
            ]
          },
          "metadata": {},
          "execution_count": 13
        }
      ]
    },
    {
      "cell_type": "code",
      "metadata": {
        "id": "eTmA0LAOj_EP",
        "colab": {
          "base_uri": "https://localhost:8080/",
          "height": 206
        },
        "outputId": "ff4a4b48-ccd1-47c6-ee60-73299d2a745e"
      },
      "source": [
        "flights.head()"
      ],
      "execution_count": null,
      "outputs": [
        {
          "output_type": "execute_result",
          "data": {
            "text/html": [
              "<div>\n",
              "<style scoped>\n",
              "    .dataframe tbody tr th:only-of-type {\n",
              "        vertical-align: middle;\n",
              "    }\n",
              "\n",
              "    .dataframe tbody tr th {\n",
              "        vertical-align: top;\n",
              "    }\n",
              "\n",
              "    .dataframe thead th {\n",
              "        text-align: right;\n",
              "    }\n",
              "</style>\n",
              "<table border=\"1\" class=\"dataframe\">\n",
              "  <thead>\n",
              "    <tr style=\"text-align: right;\">\n",
              "      <th></th>\n",
              "      <th>year</th>\n",
              "      <th>month</th>\n",
              "      <th>dayOfWeek</th>\n",
              "      <th>date</th>\n",
              "      <th>carrier</th>\n",
              "      <th>tailNum</th>\n",
              "      <th>flNum</th>\n",
              "      <th>origin</th>\n",
              "      <th>dest</th>\n",
              "      <th>crsDepTime</th>\n",
              "      <th>actDepTime</th>\n",
              "      <th>crsArrTime</th>\n",
              "      <th>actArrTime</th>\n",
              "      <th>cancelled</th>\n",
              "    </tr>\n",
              "  </thead>\n",
              "  <tbody>\n",
              "    <tr>\n",
              "      <th>0</th>\n",
              "      <td>2021</td>\n",
              "      <td>5</td>\n",
              "      <td>6</td>\n",
              "      <td>2021-05-01</td>\n",
              "      <td>OH</td>\n",
              "      <td>N571NN</td>\n",
              "      <td>5231</td>\n",
              "      <td>CLT</td>\n",
              "      <td>DTW</td>\n",
              "      <td>1630</td>\n",
              "      <td>1628.0</td>\n",
              "      <td>1832</td>\n",
              "      <td>1819.0</td>\n",
              "      <td>0.0</td>\n",
              "    </tr>\n",
              "    <tr>\n",
              "      <th>1</th>\n",
              "      <td>2021</td>\n",
              "      <td>5</td>\n",
              "      <td>7</td>\n",
              "      <td>2021-05-02</td>\n",
              "      <td>OH</td>\n",
              "      <td>N555NN</td>\n",
              "      <td>5231</td>\n",
              "      <td>CLT</td>\n",
              "      <td>DTW</td>\n",
              "      <td>1630</td>\n",
              "      <td>1624.0</td>\n",
              "      <td>1832</td>\n",
              "      <td>1815.0</td>\n",
              "      <td>0.0</td>\n",
              "    </tr>\n",
              "    <tr>\n",
              "      <th>2</th>\n",
              "      <td>2021</td>\n",
              "      <td>5</td>\n",
              "      <td>1</td>\n",
              "      <td>2021-05-03</td>\n",
              "      <td>OH</td>\n",
              "      <td>N557NN</td>\n",
              "      <td>5231</td>\n",
              "      <td>CLT</td>\n",
              "      <td>DTW</td>\n",
              "      <td>1630</td>\n",
              "      <td>1627.0</td>\n",
              "      <td>1832</td>\n",
              "      <td>1813.0</td>\n",
              "      <td>0.0</td>\n",
              "    </tr>\n",
              "    <tr>\n",
              "      <th>3</th>\n",
              "      <td>2021</td>\n",
              "      <td>5</td>\n",
              "      <td>2</td>\n",
              "      <td>2021-05-04</td>\n",
              "      <td>OH</td>\n",
              "      <td>N612NN</td>\n",
              "      <td>5231</td>\n",
              "      <td>CLT</td>\n",
              "      <td>DTW</td>\n",
              "      <td>1630</td>\n",
              "      <td>1915.0</td>\n",
              "      <td>1832</td>\n",
              "      <td>2055.0</td>\n",
              "      <td>0.0</td>\n",
              "    </tr>\n",
              "    <tr>\n",
              "      <th>4</th>\n",
              "      <td>2021</td>\n",
              "      <td>5</td>\n",
              "      <td>3</td>\n",
              "      <td>2021-05-05</td>\n",
              "      <td>OH</td>\n",
              "      <td>N587NN</td>\n",
              "      <td>5231</td>\n",
              "      <td>CLT</td>\n",
              "      <td>DTW</td>\n",
              "      <td>1630</td>\n",
              "      <td>1626.0</td>\n",
              "      <td>1832</td>\n",
              "      <td>1834.0</td>\n",
              "      <td>0.0</td>\n",
              "    </tr>\n",
              "  </tbody>\n",
              "</table>\n",
              "</div>"
            ],
            "text/plain": [
              "   year  month  dayOfWeek  ... crsArrTime actArrTime cancelled\n",
              "0  2021      5          6  ...       1832     1819.0       0.0\n",
              "1  2021      5          7  ...       1832     1815.0       0.0\n",
              "2  2021      5          1  ...       1832     1813.0       0.0\n",
              "3  2021      5          2  ...       1832     2055.0       0.0\n",
              "4  2021      5          3  ...       1832     1834.0       0.0\n",
              "\n",
              "[5 rows x 14 columns]"
            ]
          },
          "metadata": {},
          "execution_count": 14
        }
      ]
    },
    {
      "cell_type": "markdown",
      "metadata": {
        "id": "wFg9SnjeiXoz"
      },
      "source": [
        "Now, explore some basic information about the data. "
      ]
    },
    {
      "cell_type": "code",
      "metadata": {
        "id": "XVBUFtQxic78",
        "colab": {
          "base_uri": "https://localhost:8080/"
        },
        "outputId": "31d400e9-ba47-4124-f15a-fb501a84ad7d"
      },
      "source": [
        "# Fill in following print statements to learn more about the data set \n",
        "\n",
        "print(\"Flight data:   %8d rows,  %d columns\" % (len(flights.index), len(flights.columns)))"
      ],
      "execution_count": null,
      "outputs": [
        {
          "output_type": "stream",
          "name": "stdout",
          "text": [
            "Flight data:    4272388 rows,  14 columns\n"
          ]
        }
      ]
    },
    {
      "cell_type": "markdown",
      "metadata": {
        "id": "hU9OOBsXl1sY"
      },
      "source": [
        "Remove the cancelled flights. \n"
      ]
    },
    {
      "cell_type": "code",
      "metadata": {
        "id": "MShnLx0Vl7-A",
        "colab": {
          "base_uri": "https://localhost:8080/"
        },
        "outputId": "42fd2145-4db0-4ca3-b244-50ada4e32798"
      },
      "source": [
        "flights = flights[flights['cancelled'] ==0.0]    # Removed the cancelled flights by setting cancelled = 0.0 and filtering the dataframe\n",
        "print(\"Flight data:   %8d rows\" % len(flights.index))"
      ],
      "execution_count": null,
      "outputs": [
        {
          "output_type": "stream",
          "name": "stdout",
          "text": [
            "Flight data:    4174867 rows\n"
          ]
        }
      ]
    },
    {
      "cell_type": "markdown",
      "metadata": {
        "id": "aCw7za_Nm2EZ"
      },
      "source": [
        "Report the number of flights departing and arriving from each of the three airports under study: `DTW`, `MSP`, and `ORD`"
      ]
    },
    {
      "cell_type": "code",
      "metadata": {
        "id": "OAGwk4C-lRh_",
        "colab": {
          "base_uri": "https://localhost:8080/"
        },
        "outputId": "a2d0a316-6458-457c-cc3e-cae5514487d6"
      },
      "source": [
        "### YOUR CODE HERE\n",
        "\n",
        "print(\"DTW flights:   %7d arrivals,  %7d departures\" % (len(flights[flights['dest'] == 'DTW'].index), len(flights[flights['origin'] == 'DTW'].index)))\n",
        "\n",
        "### YOUR CODE HERE\n",
        "\n",
        "print(\"MSP flights:   %7d arrivals,  %7d departures\" % (len(flights[flights['dest'] == 'MSP'].index), len(flights[flights['origin'] == 'MSP'].index)))\n",
        "\n",
        "### YOUR CODE HERE\n",
        "\n",
        "print(\"ORD flights:   %7d arrivals,  %7d departures\" % (len(flights[flights['dest'] == 'ORD'].index), len(flights[flights['origin'] == 'ORD'].index)))"
      ],
      "execution_count": null,
      "outputs": [
        {
          "output_type": "stream",
          "name": "stdout",
          "text": [
            "DTW flights:    544223 arrivals,   544280 departures\n",
            "MSP flights:    537335 arrivals,   537401 departures\n",
            "ORD flights:   1061977 arrivals,  1063292 departures\n"
          ]
        }
      ]
    },
    {
      "cell_type": "markdown",
      "metadata": {
        "id": "S6ULEd24oA4n"
      },
      "source": [
        "*Note*: The number of flights arriving and departing from the three airports exceeds the total number of flights, because flights between the 3 are counted twice. "
      ]
    },
    {
      "cell_type": "markdown",
      "metadata": {
        "id": "k5mp8HdarBcY"
      },
      "source": [
        "## Extract Time Information\n",
        "\n",
        "Both the departure and arrival times were read in as integers or floating-point numbers in local time format: `hhmm``. Write two functions, `extract_hour` and `extract_mins` that converts the local time to hours and minutes, respectively. Hint: You may want to use modular arithmetic and integer division.\n",
        "\n",
        "Remove the `raise NotImplementedError()` line below and replace with your implementation of the requested function. \n"
      ]
    },
    {
      "cell_type": "code",
      "metadata": {
        "id": "25hrnFgtyjkh",
        "colab": {
          "base_uri": "https://localhost:8080/"
        },
        "outputId": "634de991-0f03-4a8e-d72c-191abdde8294"
      },
      "source": [
        "def extract_hour(time):\n",
        "    \"\"\"\n",
        "    Extract hour information from the time given in hhmm format.\n",
        "\n",
        "    Input:\n",
        "        time (float64 or int64): array of time given in hhmm format.  \n",
        "          Takes on values in 0.0-2359.0 in float64 representation or \n",
        "          values in 0000-2359 in int64 representation\n",
        " \n",
        "    Returns:\n",
        "        array (float64 or int64): array of same dimension as input of hours  \n",
        "          values should be 0-23\n",
        "    \n",
        "    Example: 1303 should return 13\n",
        "    >>> extract_hour(1303.0)\n",
        "    13\n",
        "    \"\"\"\n",
        "    ### YOUR CODE HERE\n",
        "    a=[]\n",
        "    for i in time:\n",
        "      new_time = i//100\n",
        "      a.append(new_time)\n",
        "      return (a)\n",
        "extract_hour([flights[\"crsDepTime\"]])\n",
        "    "
      ],
      "execution_count": null,
      "outputs": [
        {
          "output_type": "execute_result",
          "data": {
            "text/plain": [
              "[0          16\n",
              " 1          16\n",
              " 2          16\n",
              " 3          16\n",
              " 4          16\n",
              "            ..\n",
              " 4272383    18\n",
              " 4272384    15\n",
              " 4272385     6\n",
              " 4272386     8\n",
              " 4272387    17\n",
              " Name: crsDepTime, Length: 4174867, dtype: int64]"
            ]
          },
          "metadata": {},
          "execution_count": 18
        }
      ]
    },
    {
      "cell_type": "code",
      "metadata": {
        "id": "GHKDuErrsJsL",
        "colab": {
          "base_uri": "https://localhost:8080/"
        },
        "outputId": "39f90e94-a030-4eb4-d5c1-528c871f93b6"
      },
      "source": [
        "def extract_min(time):\n",
        "    \"\"\"\n",
        "    Extract minute information from the time given in hhmm time.\n",
        "\n",
        "    Input:\n",
        "        time (float64 or int64): array of time given in hhmm format.  \n",
        "          Takes on values in 0.0-2359.0 in float64 representation or \n",
        "          values in 0000-2359 in int64 representation\n",
        "    \n",
        "    Returns:\n",
        "        array (float64 or int64): array of samme dimension as input of minutes.  \n",
        "          values should be 0-59\n",
        "    \n",
        "     Example: 1303 should return 3\n",
        "    >>> extract_mins(1303.0)\n",
        "    3\n",
        "    \"\"\"\n",
        "    ### YOUR CODE HERE\n",
        "    b=[]\n",
        "    for i in time:\n",
        "      new_time = i%100\n",
        "      b.append(new_time)\n",
        "      return (b)\n",
        "extract_min([flights[\"actDepTime\"]])\n",
        "   "
      ],
      "execution_count": null,
      "outputs": [
        {
          "output_type": "execute_result",
          "data": {
            "text/plain": [
              "[0          28.0\n",
              " 1          24.0\n",
              " 2          27.0\n",
              " 3          15.0\n",
              " 4          26.0\n",
              "            ... \n",
              " 4272383    24.0\n",
              " 4272384     2.0\n",
              " 4272385    37.0\n",
              " 4272386    51.0\n",
              " 4272387    56.0\n",
              " Name: actDepTime, Length: 4174867, dtype: float64]"
            ]
          },
          "metadata": {},
          "execution_count": 19
        }
      ]
    },
    {
      "cell_type": "code",
      "metadata": {
        "colab": {
          "base_uri": "https://localhost:8080/",
          "height": 206
        },
        "id": "7jVhFJX0pVHU",
        "outputId": "7d388a76-6c78-48ad-9345-277b370574cb"
      },
      "source": [
        "flights.head(5)"
      ],
      "execution_count": null,
      "outputs": [
        {
          "output_type": "execute_result",
          "data": {
            "text/html": [
              "<div>\n",
              "<style scoped>\n",
              "    .dataframe tbody tr th:only-of-type {\n",
              "        vertical-align: middle;\n",
              "    }\n",
              "\n",
              "    .dataframe tbody tr th {\n",
              "        vertical-align: top;\n",
              "    }\n",
              "\n",
              "    .dataframe thead th {\n",
              "        text-align: right;\n",
              "    }\n",
              "</style>\n",
              "<table border=\"1\" class=\"dataframe\">\n",
              "  <thead>\n",
              "    <tr style=\"text-align: right;\">\n",
              "      <th></th>\n",
              "      <th>year</th>\n",
              "      <th>month</th>\n",
              "      <th>dayOfWeek</th>\n",
              "      <th>date</th>\n",
              "      <th>carrier</th>\n",
              "      <th>tailNum</th>\n",
              "      <th>flNum</th>\n",
              "      <th>origin</th>\n",
              "      <th>dest</th>\n",
              "      <th>crsDepTime</th>\n",
              "      <th>actDepTime</th>\n",
              "      <th>crsArrTime</th>\n",
              "      <th>actArrTime</th>\n",
              "      <th>cancelled</th>\n",
              "    </tr>\n",
              "  </thead>\n",
              "  <tbody>\n",
              "    <tr>\n",
              "      <th>0</th>\n",
              "      <td>2021</td>\n",
              "      <td>5</td>\n",
              "      <td>6</td>\n",
              "      <td>2021-05-01</td>\n",
              "      <td>OH</td>\n",
              "      <td>N571NN</td>\n",
              "      <td>5231</td>\n",
              "      <td>CLT</td>\n",
              "      <td>DTW</td>\n",
              "      <td>1630</td>\n",
              "      <td>1628.0</td>\n",
              "      <td>1832</td>\n",
              "      <td>1819.0</td>\n",
              "      <td>0.0</td>\n",
              "    </tr>\n",
              "    <tr>\n",
              "      <th>1</th>\n",
              "      <td>2021</td>\n",
              "      <td>5</td>\n",
              "      <td>7</td>\n",
              "      <td>2021-05-02</td>\n",
              "      <td>OH</td>\n",
              "      <td>N555NN</td>\n",
              "      <td>5231</td>\n",
              "      <td>CLT</td>\n",
              "      <td>DTW</td>\n",
              "      <td>1630</td>\n",
              "      <td>1624.0</td>\n",
              "      <td>1832</td>\n",
              "      <td>1815.0</td>\n",
              "      <td>0.0</td>\n",
              "    </tr>\n",
              "    <tr>\n",
              "      <th>2</th>\n",
              "      <td>2021</td>\n",
              "      <td>5</td>\n",
              "      <td>1</td>\n",
              "      <td>2021-05-03</td>\n",
              "      <td>OH</td>\n",
              "      <td>N557NN</td>\n",
              "      <td>5231</td>\n",
              "      <td>CLT</td>\n",
              "      <td>DTW</td>\n",
              "      <td>1630</td>\n",
              "      <td>1627.0</td>\n",
              "      <td>1832</td>\n",
              "      <td>1813.0</td>\n",
              "      <td>0.0</td>\n",
              "    </tr>\n",
              "    <tr>\n",
              "      <th>3</th>\n",
              "      <td>2021</td>\n",
              "      <td>5</td>\n",
              "      <td>2</td>\n",
              "      <td>2021-05-04</td>\n",
              "      <td>OH</td>\n",
              "      <td>N612NN</td>\n",
              "      <td>5231</td>\n",
              "      <td>CLT</td>\n",
              "      <td>DTW</td>\n",
              "      <td>1630</td>\n",
              "      <td>1915.0</td>\n",
              "      <td>1832</td>\n",
              "      <td>2055.0</td>\n",
              "      <td>0.0</td>\n",
              "    </tr>\n",
              "    <tr>\n",
              "      <th>4</th>\n",
              "      <td>2021</td>\n",
              "      <td>5</td>\n",
              "      <td>3</td>\n",
              "      <td>2021-05-05</td>\n",
              "      <td>OH</td>\n",
              "      <td>N587NN</td>\n",
              "      <td>5231</td>\n",
              "      <td>CLT</td>\n",
              "      <td>DTW</td>\n",
              "      <td>1630</td>\n",
              "      <td>1626.0</td>\n",
              "      <td>1832</td>\n",
              "      <td>1834.0</td>\n",
              "      <td>0.0</td>\n",
              "    </tr>\n",
              "  </tbody>\n",
              "</table>\n",
              "</div>"
            ],
            "text/plain": [
              "   year  month  dayOfWeek  ... crsArrTime actArrTime cancelled\n",
              "0  2021      5          6  ...       1832     1819.0       0.0\n",
              "1  2021      5          7  ...       1832     1815.0       0.0\n",
              "2  2021      5          1  ...       1832     1813.0       0.0\n",
              "3  2021      5          2  ...       1832     2055.0       0.0\n",
              "4  2021      5          3  ...       1832     1834.0       0.0\n",
              "\n",
              "[5 rows x 14 columns]"
            ]
          },
          "metadata": {},
          "execution_count": 20
        }
      ]
    },
    {
      "cell_type": "markdown",
      "metadata": {
        "id": "TlyXh1o5sTRV"
      },
      "source": [
        "## Calculate Delayed Flights\n",
        "\n",
        "Using your two functions above, add two new columns to the `flights` DataFrame that will contain the departure delay `depDelay` and arrival delay `arrDelay`.\n",
        "\n",
        "*Be careful for handling flights that were delayed after midnight.  Assume no flight leaves more than 1.5 hours early*\n",
        "\n",
        "To help answer this question, implement the following helper functions: `convert_to_minofday` and `calc_time_diff`."
      ]
    },
    {
      "cell_type": "code",
      "metadata": {
        "id": "BCSckLfb3h3d"
      },
      "source": [
        "def convert_to_minofday(time):\n",
        "    \"\"\"\n",
        "    Converts time in hhmm format to minute of day.\n",
        "    \n",
        "    Input:\n",
        "       time (float64 or int64): array of time given in hhmm format.  \n",
        "          Takes on values in 0.0-2359.0 in float64 representation or \n",
        "          values in 0000-2359 in int64 representation\n",
        "    \n",
        "    Returns:\n",
        "        array (float64 or int64): array of same dimension as input with total mins\n",
        "    \n",
        "     \n",
        "    Example: 1303 is converted to 783\n",
        "    >>> convert_to_minofday(1303.0)\n",
        "    783.0\n",
        "    \"\"\"\n",
        "    ### YOUR CODE HERE\n",
        "    c=[]\n",
        "    for i in time:\n",
        "      c_min = (i//100)*60 + (i%100)\n",
        "      c.append(c_min)\n",
        "      return (c)\n",
        "\n",
        "def calc_time_diff(x, y):\n",
        "  \n",
        "    a = convert_to_minofday(y)\n",
        "    b = convert_to_minofday(x)\n",
        "    abc = []\n",
        "    for j,i in zip(a[0],b[0]):\n",
        "      if (np.logical_and(j<=60,j-i <= -90)):\n",
        "        alpha = j-i+24*60\n",
        "        abc.append(alpha)\n",
        "      elif np.logical_and(j<=60,j-i > -90):\n",
        "        alpha = j-i\n",
        "        abc.append(alpha)\n",
        "      elif np.logical_and(i<=60,(i-j+24*60) > 90):\n",
        "        alpha = j-i\n",
        "        abc.append(alpha)\n",
        "      elif np.logical_and(i<=60,(i-j+24*60) < 90):\n",
        "        alpha = j-i-24*60\n",
        "        abc.append(alpha)\n",
        "      else:\n",
        "        alpha = j-i\n",
        "        abc.append(alpha)\n",
        "    return (abc)\n",
        "\n"
      ],
      "execution_count": null,
      "outputs": []
    },
    {
      "cell_type": "code",
      "metadata": {
        "id": "4AjpY-9dumye",
        "colab": {
          "base_uri": "https://localhost:8080/",
          "height": 616
        },
        "outputId": "ecc5c3cf-02ae-4970-c4fc-6247a8f87611"
      },
      "source": [
        "# Add the two columns to the flights DataFrame\n",
        "### YOUR CODE HERE\n",
        "depDelay = calc_time_diff([flights[\"crsDepTime\"]], [flights[\"actDepTime\"]])\n",
        "flights['depDelay'] = depDelay\n",
        "arrDelay = calc_time_diff([flights[\"crsArrTime\"]], [flights[\"actArrTime\"]])\n",
        "flights['arrDelay'] = arrDelay\n",
        "flights.head(200)\n"
      ],
      "execution_count": null,
      "outputs": [
        {
          "output_type": "execute_result",
          "data": {
            "text/html": [
              "<div>\n",
              "<style scoped>\n",
              "    .dataframe tbody tr th:only-of-type {\n",
              "        vertical-align: middle;\n",
              "    }\n",
              "\n",
              "    .dataframe tbody tr th {\n",
              "        vertical-align: top;\n",
              "    }\n",
              "\n",
              "    .dataframe thead th {\n",
              "        text-align: right;\n",
              "    }\n",
              "</style>\n",
              "<table border=\"1\" class=\"dataframe\">\n",
              "  <thead>\n",
              "    <tr style=\"text-align: right;\">\n",
              "      <th></th>\n",
              "      <th>year</th>\n",
              "      <th>month</th>\n",
              "      <th>dayOfWeek</th>\n",
              "      <th>date</th>\n",
              "      <th>carrier</th>\n",
              "      <th>tailNum</th>\n",
              "      <th>flNum</th>\n",
              "      <th>origin</th>\n",
              "      <th>dest</th>\n",
              "      <th>crsDepTime</th>\n",
              "      <th>actDepTime</th>\n",
              "      <th>crsArrTime</th>\n",
              "      <th>actArrTime</th>\n",
              "      <th>cancelled</th>\n",
              "      <th>depDelay</th>\n",
              "      <th>arrDelay</th>\n",
              "    </tr>\n",
              "  </thead>\n",
              "  <tbody>\n",
              "    <tr>\n",
              "      <th>0</th>\n",
              "      <td>2021</td>\n",
              "      <td>5</td>\n",
              "      <td>6</td>\n",
              "      <td>2021-05-01</td>\n",
              "      <td>OH</td>\n",
              "      <td>N571NN</td>\n",
              "      <td>5231</td>\n",
              "      <td>CLT</td>\n",
              "      <td>DTW</td>\n",
              "      <td>1630</td>\n",
              "      <td>1628.0</td>\n",
              "      <td>1832</td>\n",
              "      <td>1819.0</td>\n",
              "      <td>0.0</td>\n",
              "      <td>-2.0</td>\n",
              "      <td>-13.0</td>\n",
              "    </tr>\n",
              "    <tr>\n",
              "      <th>1</th>\n",
              "      <td>2021</td>\n",
              "      <td>5</td>\n",
              "      <td>7</td>\n",
              "      <td>2021-05-02</td>\n",
              "      <td>OH</td>\n",
              "      <td>N555NN</td>\n",
              "      <td>5231</td>\n",
              "      <td>CLT</td>\n",
              "      <td>DTW</td>\n",
              "      <td>1630</td>\n",
              "      <td>1624.0</td>\n",
              "      <td>1832</td>\n",
              "      <td>1815.0</td>\n",
              "      <td>0.0</td>\n",
              "      <td>-6.0</td>\n",
              "      <td>-17.0</td>\n",
              "    </tr>\n",
              "    <tr>\n",
              "      <th>2</th>\n",
              "      <td>2021</td>\n",
              "      <td>5</td>\n",
              "      <td>1</td>\n",
              "      <td>2021-05-03</td>\n",
              "      <td>OH</td>\n",
              "      <td>N557NN</td>\n",
              "      <td>5231</td>\n",
              "      <td>CLT</td>\n",
              "      <td>DTW</td>\n",
              "      <td>1630</td>\n",
              "      <td>1627.0</td>\n",
              "      <td>1832</td>\n",
              "      <td>1813.0</td>\n",
              "      <td>0.0</td>\n",
              "      <td>-3.0</td>\n",
              "      <td>-19.0</td>\n",
              "    </tr>\n",
              "    <tr>\n",
              "      <th>3</th>\n",
              "      <td>2021</td>\n",
              "      <td>5</td>\n",
              "      <td>2</td>\n",
              "      <td>2021-05-04</td>\n",
              "      <td>OH</td>\n",
              "      <td>N612NN</td>\n",
              "      <td>5231</td>\n",
              "      <td>CLT</td>\n",
              "      <td>DTW</td>\n",
              "      <td>1630</td>\n",
              "      <td>1915.0</td>\n",
              "      <td>1832</td>\n",
              "      <td>2055.0</td>\n",
              "      <td>0.0</td>\n",
              "      <td>165.0</td>\n",
              "      <td>143.0</td>\n",
              "    </tr>\n",
              "    <tr>\n",
              "      <th>4</th>\n",
              "      <td>2021</td>\n",
              "      <td>5</td>\n",
              "      <td>3</td>\n",
              "      <td>2021-05-05</td>\n",
              "      <td>OH</td>\n",
              "      <td>N587NN</td>\n",
              "      <td>5231</td>\n",
              "      <td>CLT</td>\n",
              "      <td>DTW</td>\n",
              "      <td>1630</td>\n",
              "      <td>1626.0</td>\n",
              "      <td>1832</td>\n",
              "      <td>1834.0</td>\n",
              "      <td>0.0</td>\n",
              "      <td>-4.0</td>\n",
              "      <td>2.0</td>\n",
              "    </tr>\n",
              "    <tr>\n",
              "      <th>...</th>\n",
              "      <td>...</td>\n",
              "      <td>...</td>\n",
              "      <td>...</td>\n",
              "      <td>...</td>\n",
              "      <td>...</td>\n",
              "      <td>...</td>\n",
              "      <td>...</td>\n",
              "      <td>...</td>\n",
              "      <td>...</td>\n",
              "      <td>...</td>\n",
              "      <td>...</td>\n",
              "      <td>...</td>\n",
              "      <td>...</td>\n",
              "      <td>...</td>\n",
              "      <td>...</td>\n",
              "      <td>...</td>\n",
              "    </tr>\n",
              "    <tr>\n",
              "      <th>195</th>\n",
              "      <td>2021</td>\n",
              "      <td>5</td>\n",
              "      <td>2</td>\n",
              "      <td>2021-05-25</td>\n",
              "      <td>OO</td>\n",
              "      <td>N758EV</td>\n",
              "      <td>2965</td>\n",
              "      <td>ORD</td>\n",
              "      <td>ALB</td>\n",
              "      <td>1316</td>\n",
              "      <td>1320.0</td>\n",
              "      <td>1618</td>\n",
              "      <td>1613.0</td>\n",
              "      <td>0.0</td>\n",
              "      <td>4.0</td>\n",
              "      <td>-5.0</td>\n",
              "    </tr>\n",
              "    <tr>\n",
              "      <th>196</th>\n",
              "      <td>2021</td>\n",
              "      <td>5</td>\n",
              "      <td>2</td>\n",
              "      <td>2021-05-25</td>\n",
              "      <td>OO</td>\n",
              "      <td>N611SK</td>\n",
              "      <td>2970</td>\n",
              "      <td>ORD</td>\n",
              "      <td>GRB</td>\n",
              "      <td>2046</td>\n",
              "      <td>2038.0</td>\n",
              "      <td>2151</td>\n",
              "      <td>2135.0</td>\n",
              "      <td>0.0</td>\n",
              "      <td>-8.0</td>\n",
              "      <td>-16.0</td>\n",
              "    </tr>\n",
              "    <tr>\n",
              "      <th>197</th>\n",
              "      <td>2021</td>\n",
              "      <td>5</td>\n",
              "      <td>2</td>\n",
              "      <td>2021-05-25</td>\n",
              "      <td>OO</td>\n",
              "      <td>N753EV</td>\n",
              "      <td>2974</td>\n",
              "      <td>DSM</td>\n",
              "      <td>ORD</td>\n",
              "      <td>1053</td>\n",
              "      <td>1047.0</td>\n",
              "      <td>1224</td>\n",
              "      <td>1210.0</td>\n",
              "      <td>0.0</td>\n",
              "      <td>-6.0</td>\n",
              "      <td>-14.0</td>\n",
              "    </tr>\n",
              "    <tr>\n",
              "      <th>198</th>\n",
              "      <td>2021</td>\n",
              "      <td>5</td>\n",
              "      <td>2</td>\n",
              "      <td>2021-05-25</td>\n",
              "      <td>OO</td>\n",
              "      <td>N753EV</td>\n",
              "      <td>2974</td>\n",
              "      <td>ORD</td>\n",
              "      <td>DSM</td>\n",
              "      <td>825</td>\n",
              "      <td>816.0</td>\n",
              "      <td>1009</td>\n",
              "      <td>934.0</td>\n",
              "      <td>0.0</td>\n",
              "      <td>-9.0</td>\n",
              "      <td>-35.0</td>\n",
              "    </tr>\n",
              "    <tr>\n",
              "      <th>199</th>\n",
              "      <td>2021</td>\n",
              "      <td>5</td>\n",
              "      <td>2</td>\n",
              "      <td>2021-05-25</td>\n",
              "      <td>OO</td>\n",
              "      <td>N745SK</td>\n",
              "      <td>2976</td>\n",
              "      <td>ORD</td>\n",
              "      <td>DSM</td>\n",
              "      <td>945</td>\n",
              "      <td>959.0</td>\n",
              "      <td>1117</td>\n",
              "      <td>1121.0</td>\n",
              "      <td>0.0</td>\n",
              "      <td>14.0</td>\n",
              "      <td>4.0</td>\n",
              "    </tr>\n",
              "  </tbody>\n",
              "</table>\n",
              "<p>200 rows × 16 columns</p>\n",
              "</div>"
            ],
            "text/plain": [
              "     year  month  dayOfWeek  ... cancelled depDelay arrDelay\n",
              "0    2021      5          6  ...       0.0     -2.0    -13.0\n",
              "1    2021      5          7  ...       0.0     -6.0    -17.0\n",
              "2    2021      5          1  ...       0.0     -3.0    -19.0\n",
              "3    2021      5          2  ...       0.0    165.0    143.0\n",
              "4    2021      5          3  ...       0.0     -4.0      2.0\n",
              "..    ...    ...        ...  ...       ...      ...      ...\n",
              "195  2021      5          2  ...       0.0      4.0     -5.0\n",
              "196  2021      5          2  ...       0.0     -8.0    -16.0\n",
              "197  2021      5          2  ...       0.0     -6.0    -14.0\n",
              "198  2021      5          2  ...       0.0     -9.0    -35.0\n",
              "199  2021      5          2  ...       0.0     14.0      4.0\n",
              "\n",
              "[200 rows x 16 columns]"
            ]
          },
          "metadata": {},
          "execution_count": 104
        }
      ]
    },
    {
      "cell_type": "markdown",
      "metadata": {
        "id": "hCRJRcJcuVV5"
      },
      "source": [
        "## Filter Delayed Flights \n",
        "\n",
        "Use filter the `flights` data for flights that departed 75 or more minutes later than scheduled.  Report the number and as percentage of all departing flights for each airport."
      ]
    },
    {
      "cell_type": "code",
      "metadata": {
        "id": "KaO4LOq2tHs1",
        "colab": {
          "base_uri": "https://localhost:8080/"
        },
        "outputId": "1181bbb2-28ea-4c28-f5cc-73713ca908e5"
      },
      "source": [
        "\"\"\"\n",
        "Using your functions above, filter the flights data for flights \n",
        "that departed 75 or more minutes later than scheduled. \n",
        "\n",
        "Report the number of departures delayed at each city and the percentage of \n",
        " departures from each airport. \n",
        "\"\"\"\n",
        "\n",
        "\n",
        "# FOR THE DTW \n",
        "\n",
        "origin_dtw = flights[flights['origin'] == 'DTW'] # Selecting the origin only to DTW\n",
        "origin_dtw_len = len(origin_dtw.index)           # Calculating the no of flights originating from DTW\n",
        "origin_dtw_delay_m75 = origin_dtw[origin_dtw['depDelay'] >= 75] # selecting the DTW flights df with departure delay greater than equal to 75\n",
        "origin_dtw_delay_m75_len = len(origin_dtw_delay_m75.index)      # Calculating the no of delayed flights originating from DTW\n",
        "perdeldep_dtw = (origin_dtw_delay_m75_len/origin_dtw_len)*100   # Calculating the percentage of dtw flights with dep delay >= 75 minutes, as a total no of flight originating from DTW\n",
        "\n",
        "# FOR THE MSP \n",
        "\n",
        "origin_msp = flights[flights['origin'] == 'MSP'] # Selecting the origin only to MSP\n",
        "origin_msp_len = len(origin_msp.index)           # Calculating the no of flights originating from MSP\n",
        "origin_msp_delay_m75 = origin_msp[origin_msp['depDelay'] >= 75] # selecting the MSP flights df with departure delay greater than equal to 75\n",
        "origin_msp_delay_m75_len = len(origin_msp_delay_m75.index)      # Calculating the no of delayed flights originating from MSP\n",
        "perdeldep_msp = (origin_msp_delay_m75_len/origin_msp_len)*100   # Calculating the percentage of MSP flights with dep delay >= 75 minutes, as a total no of flight originating from MSP\n",
        "\n",
        "# FOR THE ORD \n",
        "\n",
        "origin_ord = flights[flights['origin'] == 'ORD'] # Selecting the origin only to ORD\n",
        "origin_ord_len = len(origin_ord.index)           # Calculating the no of flights originating from ORD\n",
        "origin_ord_delay_m75 = origin_ord[origin_ord['depDelay'] >= 75] # selecting the ORD flights df with departure delay greater than equal to 75\n",
        "origin_ord_delay_m75_len = len(origin_ord_delay_m75.index)      # Calculating the no of delayed flights originating from ORD\n",
        "perdeldep_ord = (origin_ord_delay_m75_len/origin_ord_len)*100   # Calculating the percentage of ORD flights with dep delay >= 75 minutes, as a total no of flight originating from ORD\n",
        "\n",
        "print(\"DTW delayed flights:  %7d, %3.3f%%\" % (origin_dtw_delay_m75_len, perdeldep_dtw ))\n",
        "print(\"MSP delayed flights:  %7d, %3.3f%%\" % (origin_msp_delay_m75_len, perdeldep_msp))\n",
        "print(\"ORD delayed flights:  %7d, %3.3f%%\" % (origin_ord_delay_m75_len, perdeldep_ord))\n"
      ],
      "execution_count": null,
      "outputs": [
        {
          "output_type": "stream",
          "name": "stdout",
          "text": [
            "DTW delayed flights:    20693, 3.802%\n",
            "MSP delayed flights:    16682, 3.104%\n",
            "ORD delayed flights:    56233, 5.289%\n"
          ]
        }
      ]
    },
    {
      "cell_type": "markdown",
      "metadata": {
        "id": "Jolz0fckvNSG"
      },
      "source": [
        "## Distribution and Statistics on Flight Delays\n",
        "\n",
        "Plot the distribution of delays for both arriving and departing flights for each airport.  The histograms should be placed side-by-side *hint: consider the `subplot` function*. Make sure to label and make the plots look nice. "
      ]
    },
    {
      "cell_type": "code",
      "metadata": {
        "id": "BscW_4oYvite",
        "colab": {
          "base_uri": "https://localhost:8080/",
          "height": 764
        },
        "outputId": "05af7f86-4910-4977-b78a-84e00631a0dc"
      },
      "source": [
        "### YOUR CODE HERE - DTW\n",
        "# Histogram in Matplotlib\n",
        "\n",
        "origin_dtw = flights[flights['origin'] == 'DTW'] # Selecting the origin only to DTW\n",
        "origin_dtw_delay_m75 = origin_dtw[origin_dtw['depDelay'] >= 75] # selecting the DTW flights df with departure delay greater than equal to 75\n",
        "plt.style.use('seaborn')\n",
        "\n",
        "#dtw_dep_delay = origin_dtw_delay_m75['depDelay']\n",
        "dtw_dep_delay = origin_dtw['depDelay']\n",
        "#dtw_arr_delay = origin_dtw[origin_dtw['arrDelay'] >= 75]['arrDelay']\n",
        "dtw_arr_delay = origin_dtw['arrDelay']\n",
        "\n",
        "\n",
        "fig1, ax1 = plt.subplots()\n",
        "fig2, ax2 = plt.subplots()\n",
        "\n",
        "ax1.hist(dtw_dep_delay, color='blue', label='DTW DEPARTURE DELAY')\n",
        "ax2.hist(dtw_arr_delay,color='green', label='DTW ARRIVAL DELAY')\n",
        "\n",
        "ax1.legend()\n",
        "ax1.set_title('Histogram of DTW Departure Delay')\n",
        "ax1.set_xlabel('Departure Delays Minute Range')\n",
        "ax1.set_ylabel('Count')\n",
        "\n",
        "ax2.legend()\n",
        "ax2.set_title('Histogram of DTW Arrival Delay')\n",
        "ax2.set_xlabel('Arrival Delays Minute Range')\n",
        "ax2.set_ylabel('Count')\n",
        "\n",
        "plt.tight_layout()\n",
        "plt.show()\n",
        "\n"
      ],
      "execution_count": null,
      "outputs": [
        {
          "output_type": "display_data",
          "data": {
            "image/png": "[encoded data removed]",
            "text/plain": [
              "<Figure size 576x396 with 1 Axes>"
            ]
          },
          "metadata": {}
        },
        {
          "output_type": "display_data",
          "data": {
            "image/png": "[encoded data removed]",
            "text/plain": [
              "<Figure size 576x396 with 1 Axes>"
            ]
          },
          "metadata": {}
        }
      ]
    },
    {
      "cell_type": "code",
      "metadata": {
        "id": "sHczUGhFvpYd",
        "colab": {
          "base_uri": "https://localhost:8080/",
          "height": 764
        },
        "outputId": "cf7c689d-cad5-4c64-e584-e4b4e620e285"
      },
      "source": [
        "### YOUR CODE HERE - MSP\n",
        "# Histogram in Matplotlib\n",
        "\n",
        "origin_msp = flights[flights['origin'] == 'MSP'] # Selecting the origin only to MSP\n",
        "origin_msp_delay_m75 = origin_msp[origin_msp['depDelay'] >= 75] # selecting the MSP flights df with departure delay greater than equal to 75\n",
        "plt.style.use('seaborn')\n",
        "\n",
        "#msp_dep_delay = origin_msp_delay_m75['depDelay']\n",
        "msp_dep_delay = origin_msp['depDelay']\n",
        "#msp_arr_delay = origin_msp[origin_msp['arrDelay'] >= 75]['arrDelay']\n",
        "msp_arr_delay = origin_msp['arrDelay']\n",
        "\n",
        "fig1, ax1 = plt.subplots()\n",
        "fig2, ax2 = plt.subplots()\n",
        "\n",
        "ax1.hist(msp_dep_delay, color='blue', label='MSP DEPARTURE DELAY')\n",
        "ax2.hist(msp_arr_delay,color='green', label='MSP ARRIVAL DELAY')\n",
        "\n",
        "ax1.legend()\n",
        "ax1.set_title('Histogram of MSP Departure Delay')\n",
        "ax1.set_xlabel('Departure Delays Minute Range')\n",
        "ax1.set_ylabel('Count')\n",
        "\n",
        "ax2.legend()\n",
        "ax2.set_title('Histogram of MSP Arrival Delay')\n",
        "ax2.set_xlabel('Arrival Delays Minute Range')\n",
        "ax2.set_ylabel('Count')\n",
        "\n",
        "plt.tight_layout()\n",
        "plt.show()\n",
        "\n",
        "\n"
      ],
      "execution_count": null,
      "outputs": [
        {
          "output_type": "display_data",
          "data": {
            "image/png": "[encoded data removed]",
            "text/plain": [
              "<Figure size 576x396 with 1 Axes>"
            ]
          },
          "metadata": {}
        },
        {
          "output_type": "display_data",
          "data": {
            "image/png": "[encoded data removed]",
            "text/plain": [
              "<Figure size 576x396 with 1 Axes>"
            ]
          },
          "metadata": {}
        }
      ]
    },
    {
      "cell_type": "code",
      "metadata": {
        "id": "Ne0l_PrSH7VL",
        "colab": {
          "base_uri": "https://localhost:8080/",
          "height": 764
        },
        "outputId": "171e51de-2f1e-499c-c3ed-3330226fc3c4"
      },
      "source": [
        "### YOUR CODE HERE - ORD\n",
        "# Histogram in Matplotlib\n",
        "\n",
        "origin_ord = flights[flights['origin'] == 'ORD'] # Selecting the origin only to ORD\n",
        "origin_ord_delay_m75 = origin_ord[origin_ord['depDelay'] >= 75] # selecting the ORD flights df with departure delay greater than equal to 75\n",
        "plt.style.use('seaborn')\n",
        "\n",
        "#ord_dep_delay = origin_ord_delay_m75['depDelay']\n",
        "ord_dep_delay = origin_ord['depDelay']\n",
        "#ord_arr_delay = origin_ord[origin_ord['arrDelay'] >= 75]['arrDelay']\n",
        "ord_arr_delay = origin_ord['arrDelay']\n",
        "fig1, ax1 = plt.subplots()\n",
        "fig2, ax2 = plt.subplots()\n",
        "\n",
        "ax1.hist(ord_dep_delay, color='blue', label='ORD DEPARTURE DELAY')\n",
        "ax2.hist(ord_arr_delay,color='green', label='ORD ARRIVAL DELAY')\n",
        "\n",
        "ax1.legend()\n",
        "ax1.set_title('Histogram of ORD Departure Delay')\n",
        "ax1.set_xlabel('Departure Delays Minute Range')\n",
        "ax1.set_ylabel('Count')\n",
        "\n",
        "ax2.legend()\n",
        "ax2.set_title('Histogram of ORD Arrival Delay')\n",
        "ax2.set_xlabel('Arrival Delays Minute Range')\n",
        "ax2.set_ylabel('Count')\n",
        "\n",
        "plt.tight_layout()\n",
        "plt.show()\n"
      ],
      "execution_count": null,
      "outputs": [
        {
          "output_type": "display_data",
          "data": {
            "image/png": "[encoded data removed]",
            "text/plain": [
              "<Figure size 576x396 with 1 Axes>"
            ]
          },
          "metadata": {}
        },
        {
          "output_type": "display_data",
          "data": {
            "image/png": "[encoded data removed]",
            "text/plain": [
              "<Figure size 576x396 with 1 Axes>"
            ]
          },
          "metadata": {}
        }
      ]
    },
    {
      "cell_type": "markdown",
      "metadata": {
        "id": "Fkb7kWvGvlNS"
      },
      "source": [
        "Present the mean and standard deviation for departure and arrival delays for each airport."
      ]
    },
    {
      "cell_type": "code",
      "metadata": {
        "id": "ZBxDDItYvltP",
        "colab": {
          "base_uri": "https://localhost:8080/"
        },
        "outputId": "6deb6fa1-b080-4f5f-9dbc-f2437bdbaf61"
      },
      "source": [
        "### YOUR CODE HERE\n",
        "\n",
        "# FOR DTW\n",
        "\n",
        "origin_dtw_delay_m75 = origin_dtw[origin_dtw['depDelay'] >= 75] \n",
        "meanDepDTW = origin_dtw['depDelay'].mean()\n",
        "stdDepDTW = origin_dtw['depDelay'].std()\n",
        "print(\"Depature Delay for flights leaving DTW\")\n",
        "print(\" Mean:    \", meanDepDTW)\n",
        "print(\" Std Dev: \", stdDepDTW)\n",
        "\n",
        "dest_dtw = flights[flights['dest'] == 'DTW'] \n",
        "dest_dtw_delay_m75 = dest_dtw[dest_dtw['arrDelay'] >= 75]\n",
        "meanArrDTW = dest_dtw['arrDelay'].mean()\n",
        "stdArrDTW = dest_dtw['arrDelay'].std()\n",
        "\n",
        "print(\"Arrival Delay for flights arriving in DTW\")\n",
        "print(\" Mean:    \", meanArrDTW)\n",
        "print(\" Std Dev: \", stdArrDTW)\n",
        "\n",
        "# FOR MSP\n",
        "origin_msp_delay_m75 = origin_msp[origin_msp['depDelay'] >= 75] \n",
        "meanDepMSP = origin_msp['depDelay'].mean()\n",
        "stdDepMSP = origin_msp['depDelay'].std()\n",
        "print(\"Depature Delay for flights leaving MSP\")\n",
        "print(\" Mean:    \", meanDepMSP)\n",
        "print(\" Std Dev: \", stdDepMSP)\n",
        "\n",
        "dest_msp = flights[flights['dest'] == 'MSP'] \n",
        "dest_msp_delay_m75 = dest_msp[dest_msp['arrDelay'] >= 75]\n",
        "meanArrMSP = dest_msp['arrDelay'].mean()\n",
        "stdArrMSP = dest_msp['arrDelay'].std()\n",
        "\n",
        "print(\"Arrival Delay for flights arriving in MSP\")\n",
        "print(\" Mean:    \", meanArrMSP)\n",
        "print(\" Std Dev: \", stdArrMSP)\n",
        "\n",
        "# FOR ORD\n",
        "\n",
        "origin_ord_delay_m75 = origin_ord[origin_ord['depDelay'] >= 75] \n",
        "meanDepORD = origin_ord['depDelay'].mean()\n",
        "stdDepORD = origin_ord['depDelay'].std()\n",
        "print(\"Depature Delay for flights leaving ORD\")\n",
        "print(\" Mean:    \", meanDepORD)\n",
        "print(\" Std Dev: \", stdDepORD)\n",
        "\n",
        "dest_ord = flights[flights['dest'] == 'ORD'] \n",
        "dest_ord_delay_m75 = dest_ord[dest_ord['arrDelay'] >= 75]\n",
        "meanArrORD = dest_ord['arrDelay'].mean()\n",
        "stdArrORD = dest_ord['arrDelay'].std()\n",
        "\n",
        "print(\"Arrival Delay for flights arriving in ORD\")\n",
        "print(\" Mean:    \", meanArrORD)\n",
        "print(\" Std Dev: \", stdArrORD)\n"
      ],
      "execution_count": null,
      "outputs": [
        {
          "output_type": "stream",
          "name": "stdout",
          "text": [
            "Depature Delay for flights leaving DTW\n",
            " Mean:     4.879279047549056\n",
            " Std Dev:  48.29504441053702\n",
            "Arrival Delay for flights arriving in DTW\n",
            " Mean:     -4.690599094769842\n",
            " Std Dev:  78.90514642890619\n",
            "Depature Delay for flights leaving MSP\n",
            " Mean:     3.6394703396532573\n",
            " Std Dev:  46.220539168692554\n",
            "Arrival Delay for flights arriving in MSP\n",
            " Mean:     -4.521584963396861\n",
            " Std Dev:  70.06905711894548\n",
            "Depature Delay for flights leaving ORD\n",
            " Mean:     8.303696444626688\n",
            " Std Dev:  51.37644486164549\n",
            "Arrival Delay for flights arriving in ORD\n",
            " Mean:     0.8566579836095525\n",
            " Std Dev:  77.34632413555191\n"
          ]
        }
      ]
    },
    {
      "cell_type": "markdown",
      "metadata": {
        "id": "Q9JAd3UBtogS"
      },
      "source": [
        "## Top Ten Planes \n",
        "\n",
        "Find the tail number of the top ten planes, with the worst departure delays (average delays).  You may find `drop_duplicates`, `agg`, and `sort_values` helpful.\n",
        " \n",
        "Report out the tail number, number of flights, and the mean delay for these top planes. "
      ]
    },
    {
      "cell_type": "code",
      "metadata": {
        "id": "uygjFWy7uBhe",
        "colab": {
          "base_uri": "https://localhost:8080/"
        },
        "outputId": "fbf79fcb-0c4f-47d5-dd2c-9fc8b62f75e2"
      },
      "source": [
        "### YOUR CODE HERE\n",
        "flights.head(5)\n",
        "df5 = flights[[\"tailNum\", \"depDelay\"]].copy()    ## created a new data frame, with columns tailNum and depDelay\n",
        "df5 = df5.sort_values('depDelay', ascending=False)\n",
        "df6 = df5.iloc[0:10]\n",
        "print(df6)\n",
        "# printing  the list of top 10 tailNum with worst dep delaay as a list below\n",
        "list_of_top10tailnum = df6['tailNum'].to_list()\n",
        "print('List of top 10 tailNum with worst departure delays: ')\n",
        "print(list_of_top10tailnum)\n",
        "\n",
        "# Filtering the dataframe contining tailNum only in the above list\n",
        "df8 = df5[df5.tailNum.isin(list_of_top10tailnum)]\n",
        "\n",
        "# Now calculating the number of flights, and the mean delay for the top 10 tailNum with worst delays\n",
        "print(df8.groupby('tailNum').mean()) # Mean delay of each top10 tailNum flights\n",
        "print(\"No of top10 tailNum flights: %d \" %(len(df8.index))) # No of top 10 TailNum flights"
      ],
      "execution_count": null,
      "outputs": [
        {
          "output_type": "stream",
          "name": "stdout",
          "text": [
            "        tailNum  depDelay\n",
            "4123574  N991AT    1200.0\n",
            "1150043  N942AT    1175.0\n",
            "1575568  N420UA    1145.0\n",
            "2050540  N745SK    1125.0\n",
            "769911   N818MD    1103.0\n",
            "1705398  N904DA    1097.0\n",
            "1297035  N354NB    1094.0\n",
            "2071226  N732SK    1094.0\n",
            "1688622  N885AS    1089.0\n",
            "2928458  N807NN    1069.0\n",
            "List of top 10 tailNum with worst departure delays: \n",
            "['N991AT', 'N942AT', 'N420UA', 'N745SK', 'N818MD', 'N904DA', 'N354NB', 'N732SK', 'N885AS', 'N807NN']\n",
            "          depDelay\n",
            "tailNum           \n",
            "N354NB    3.574215\n",
            "N420UA   15.627572\n",
            "N732SK   12.915018\n",
            "N745SK   10.615060\n",
            "N807NN    9.052711\n",
            "N818MD    5.366034\n",
            "N885AS    6.023025\n",
            "N904DA    5.990815\n",
            "N942AT    4.622161\n",
            "N991AT    4.990931\n",
            "No of top10 tailNum flights: 18816 \n"
          ]
        }
      ]
    },
    {
      "cell_type": "markdown",
      "metadata": {
        "id": "IUA9MDjCR1fu"
      },
      "source": [
        "## Pattern of Delays \n",
        "\n",
        "Let's examine if their are pattern of delays.  We can focus just on data from ORD, in particular departure delays. \n",
        "\n"
      ]
    },
    {
      "cell_type": "markdown",
      "metadata": {
        "id": "GOs5L-OLSNNX"
      },
      "source": [
        "### Departure Delays by Day of Week \n",
        "\n",
        "Let's examine if the departure delays differ by which day a flight is scheduled to leave. \n",
        "\n",
        "Create a bar chart showing the mean departure delay for each day of the week. \n"
      ]
    },
    {
      "cell_type": "code",
      "metadata": {
        "id": "RvSxASFKSpnQ",
        "colab": {
          "base_uri": "https://localhost:8080/",
          "height": 648
        },
        "outputId": "f5dbeee2-4398-463f-be8f-60f955a57d98"
      },
      "source": [
        "### YOUR CODE HERE\n",
        "\n",
        "origin_ord = flights[flights['origin'] == 'ORD'] # Selecting the origin only to ORD\n",
        "df1 = origin_ord[[\"dayOfWeek\", \"depDelay\"]].copy()    ## created a new data frame, with columns month and DepDelay\n",
        "# Add a new column dayOfWeek_\n",
        "df1[\"dayOfWeek_\"] = df1['dayOfWeek']\n",
        "print(df1.head())\n",
        "\n",
        "# Group the data by years and calculates the mean of the depDelay\n",
        "df2= df1.groupby([\"dayOfWeek_\"]).mean()\n",
        "print(df2.head(10))\n",
        "df2.plot.bar(x='dayOfWeek', y='depDelay', xlabel = 'Day of the week', ylabel = \"Average Departure Delay\", title = \"Mean Departure Delay of Each Day of the Week\" );\n"
      ],
      "execution_count": null,
      "outputs": [
        {
          "output_type": "stream",
          "name": "stdout",
          "text": [
            "     dayOfWeek  depDelay  dayOfWeek_\n",
            "191          2      -3.0           2\n",
            "193          2       4.0           2\n",
            "195          2       4.0           2\n",
            "196          2      -8.0           2\n",
            "198          2      -9.0           2\n",
            "            dayOfWeek   depDelay\n",
            "dayOfWeek_                      \n",
            "1                   1  10.389848\n",
            "2                   2   7.789493\n",
            "3                   3   7.343034\n",
            "4                   4   8.769438\n",
            "5                   5   8.037279\n",
            "6                   6   7.026567\n",
            "7                   7   8.507861\n"
          ]
        },
        {
          "output_type": "display_data",
          "data": {
            "image/png": "[encoded data removed]",
            "text/plain": [
              "<Figure size 576x396 with 1 Axes>"
            ]
          },
          "metadata": {}
        }
      ]
    },
    {
      "cell_type": "markdown",
      "metadata": {
        "id": "_dmrW5fZSo77"
      },
      "source": [
        "###Dept. Delays by Month\n",
        "\n",
        "Next, let's examine if the depature delays differ by month of the year. \n",
        "\n",
        "Create a bar chart showing the mean departure delay for each month of the year. "
      ]
    },
    {
      "cell_type": "code",
      "metadata": {
        "id": "w5YrfLmNS828",
        "colab": {
          "base_uri": "https://localhost:8080/",
          "height": 708
        },
        "outputId": "a1cb00e8-fcd4-4c13-ca53-69eaae66ef98"
      },
      "source": [
        "### YOUR CODE HERE\n",
        "### YOUR CODE HERE\n",
        "\n",
        "origin_ord = flights[flights['origin'] == 'ORD'] # Selecting the origin only to ORD\n",
        "df1 = origin_ord[[\"month\", \"depDelay\"]].copy()    ## created a new data frame, with columns month and depDelay\n",
        "# Add a new column month_\n",
        "df1[\"month_\"] = df1['month']\n",
        "print(df1.head())\n",
        "\n",
        "# Group the data by years and calculates the mean of the depDelay\n",
        "df2= df1.groupby([\"month_\"]).mean()\n",
        "print(df2.head(10))\n",
        "df2.plot.bar(x='month', y='depDelay', xlabel = 'Month of the Year', ylabel = \"Average Departure Delay\", title = \"Mean Departure Delay of Each Month of the Year\", color = 'green' );\n",
        "\n"
      ],
      "execution_count": null,
      "outputs": [
        {
          "output_type": "stream",
          "name": "stdout",
          "text": [
            "     month  depDelay  month_\n",
            "191      5      -3.0       5\n",
            "193      5       4.0       5\n",
            "195      5       4.0       5\n",
            "196      5      -8.0       5\n",
            "198      5      -9.0       5\n",
            "        month   depDelay\n",
            "month_                  \n",
            "1           1   9.822402\n",
            "2           2  10.517561\n",
            "3           3   4.145801\n",
            "4           4   4.585913\n",
            "5           5   8.425158\n",
            "6           6  14.663995\n",
            "7           7  12.763277\n",
            "8           8  10.074806\n",
            "9           9   6.013729\n",
            "10         10   4.944176\n"
          ]
        },
        {
          "output_type": "display_data",
          "data": {
            "image/png": "[encoded data removed]",
            "text/plain": [
              "<Figure size 576x396 with 1 Axes>"
            ]
          },
          "metadata": {}
        }
      ]
    },
    {
      "cell_type": "markdown",
      "metadata": {
        "id": "tkEaARqPS9Rq"
      },
      "source": [
        "### Change in Dept. Delays over Time \n",
        "\n",
        "Finally, let's examine how the depature delays have changed over time, e.g., has covid impacted depature delays? \n",
        "\n",
        "Create a line graph plotting the mean depature delay for data's timespan. "
      ]
    },
    {
      "cell_type": "code",
      "metadata": {
        "id": "5hZTu3_OTY6n",
        "colab": {
          "base_uri": "https://localhost:8080/",
          "height": 696
        },
        "outputId": "47bcfd07-cb82-443d-cc7c-02033a273977"
      },
      "source": [
        "### YOUR CODE HERE\n",
        "### YOUR CODE HERE\n",
        "### YOUR CODE HERE\n",
        "\n",
        "\n",
        "df1 = flights[[\"date\", \"depDelay\"]].copy()    ## created a new data frame, with columns month and depDelay\n",
        "print(df1.head())\n",
        "df1 = df1.sort_values('date', ascending=True)\n",
        "# Group the data by years and calculates the mean of the depDelay\n",
        "df1= df1.groupby([\"date\"]).mean()\n",
        "df1.plot.line( y = 'depDelay', figsize=(20, 10), xlabel =  'Timespan', ylabel = 'Mean Departure Delay', title = 'Line chart of Mean Departure Delay Over the Span of Time', color = 'green');\n"
      ],
      "execution_count": null,
      "outputs": [
        {
          "output_type": "stream",
          "name": "stdout",
          "text": [
            "         date  depDelay\n",
            "0  2021-05-01      -2.0\n",
            "1  2021-05-02      -6.0\n",
            "2  2021-05-03      -3.0\n",
            "3  2021-05-04     165.0\n",
            "4  2021-05-05      -4.0\n"
          ]
        },
        {
          "output_type": "display_data",
          "data": {
            "image/png": "[encoded data removed]",
            "text/plain": [
              "<Figure size 1440x720 with 1 Axes>"
            ]
          },
          "metadata": {}
        }
      ]
    },
    {
      "cell_type": "markdown",
      "metadata": {
        "id": "Rm8RN1koTgzF"
      },
      "source": [
        "## Examine how the impact of number of flights in a month with the mean depature delay.  Suggest using a scatterplot to examine this relationship. "
      ]
    },
    {
      "cell_type": "code",
      "metadata": {
        "id": "qkP83QHv5haU",
        "colab": {
          "base_uri": "https://localhost:8080/",
          "height": 1115
        },
        "outputId": "895e9f1d-c0a9-4b0c-8174-eae989026894"
      },
      "source": [
        "### YOUR CODE HERE\n",
        "\n",
        "df10 = flights[[\"month\", \"depDelay\"]].copy()    ## created a new data frame, with columns month and depDelay\n",
        "# Add a new column month_\n",
        "df10[\"month_\"] = df10['month']\n",
        "print(df10.head())\n",
        "# Group the data by years and calculates the mean of the depDelay\n",
        "df11= df10.groupby([\"month_\"]).mean()\n",
        "print(df11.head(10))\n",
        "#df2.plot.bar(x='month', y='depDelay', xlabel = 'Month of the Year', ylabel = \"Average Departure Delay\", title = \"Mean Departure Delay of Each Month of the Year\", color = 'green' );\n",
        "\n",
        "print(\"No of flights in month 1: %d \" %(len(df10[df10['month'] == 1].index))) \n",
        "print(\"No of flights in month 2: %d \" %(len(df10[df10['month'] == 2].index)))  \n",
        "print(\"No of flights in month 3: %d \" %(len(df10[df10['month'] == 3].index))) \n",
        "print(\"No of flights in month 4: %d \" %(len(df10[df10['month'] == 4].index)))  \n",
        "print(\"No of flights in month 5: %d \" %(len(df10[df10['month'] == 5].index))) \n",
        "print(\"No of flights in month 6: %d \" %(len(df10[df10['month'] == 6].index))) \n",
        "print(\"No of flights in month 7: %d \" %(len(df10[df10['month'] == 7].index))) \n",
        "print(\"No of flights in month 8: %d \" %(len(df10[df10['month'] == 8].index))) \n",
        "print(\"No of flights in month 9: %d \" %(len(df10[df10['month'] == 9].index))) \n",
        "print(\"No of flights in month 10: %d \" %(len(df10[df10['month'] == 10].index)))  \n",
        "print(\"No of flights in month 11: %d \" %(len(df10[df10['month'] == 11].index))) \n",
        "print(\"No of flights in month 12: %d \" %(len(df10[df10['month'] == 12].index))) \n",
        "\n",
        "# Adding a new column with the no of flights each month in df11 ( obtained from above)\n",
        "noOfFlight = [340035, 315472, 367653, 304786,320261, 339682, 378691, 393320, 356689, 372661, 342437, 343180 ]\n",
        "df11['noOfFlight'] = noOfFlight\n",
        "print(df11.head(10))\n",
        "\n",
        "df11.plot.scatter(x='noOfFlight', y='depDelay', figsize=(15,7.5), title = \"No of flight each month vs Average departure delay\", color = 'green');\n",
        "\n"
      ],
      "execution_count": null,
      "outputs": [
        {
          "output_type": "stream",
          "name": "stdout",
          "text": [
            "   month  depDelay  month_\n",
            "0      5      -2.0       5\n",
            "1      5      -6.0       5\n",
            "2      5      -3.0       5\n",
            "3      5     165.0       5\n",
            "4      5      -4.0       5\n",
            "        month   depDelay\n",
            "month_                  \n",
            "1           1   7.442837\n",
            "2           2   9.228455\n",
            "3           3   3.336075\n",
            "4           4   4.296943\n",
            "5           5   5.959086\n",
            "6           6  10.453966\n",
            "7           7   8.925773\n",
            "8           8   7.533588\n",
            "9           9   4.097802\n",
            "10         10   3.807911\n",
            "No of flights in month 1: 340035 \n",
            "No of flights in month 2: 315472 \n",
            "No of flights in month 3: 367653 \n",
            "No of flights in month 4: 304786 \n",
            "No of flights in month 5: 320261 \n",
            "No of flights in month 6: 339682 \n",
            "No of flights in month 7: 378691 \n",
            "No of flights in month 8: 393320 \n",
            "No of flights in month 9: 356689 \n",
            "No of flights in month 10: 372661 \n",
            "No of flights in month 11: 342437 \n",
            "No of flights in month 12: 343180 \n",
            "        month   depDelay  noOfFlight\n",
            "month_                              \n",
            "1           1   7.442837      340035\n",
            "2           2   9.228455      315472\n",
            "3           3   3.336075      367653\n",
            "4           4   4.296943      304786\n",
            "5           5   5.959086      320261\n",
            "6           6  10.453966      339682\n",
            "7           7   8.925773      378691\n",
            "8           8   7.533588      393320\n",
            "9           9   4.097802      356689\n",
            "10         10   3.807911      372661\n"
          ]
        },
        {
          "output_type": "display_data",
          "data": {
            "image/png": "[encoded data removed]",
            "text/plain": [
              "<Figure size 1080x540 with 1 Axes>"
            ]
          },
          "metadata": {}
        }
      ]
    },
    {
      "cell_type": "markdown",
      "metadata": {
        "id": "PEUkZnJCVnFv"
      },
      "source": [
        "From the scatter plot,we cant say, if there is any definite relationship between the no of flights each month and the mean departure delay."
      ]
    }
  ]
}